{
 "cells": [
  {
   "cell_type": "markdown",
   "metadata": {},
   "source": [
    "# Human Annotation - Dataset to Qualtrics Script\n",
    "GOAL: Create a .txt file that can be imported easily into Qualtrics to autogenerate a form following this documentation (\n",
    "https://www.qualtrics.com/support/survey-platform/survey-module/survey-tools/import-and-export-surveys/#PreparingASimpleFormatTXTFile)"
   ]
  },
  {
   "cell_type": "markdown",
   "metadata": {},
   "source": [
    "Sample .txt structure:\n",
    "\n",
    "[[Block: Language Proficiency]]  \n",
    "What languages are you fluent/comfortable in translating and interpreting sentences in?  \n",
    "[[Question:MC:MultipleAnswer]]  \n",
    "[[Choices]]  \n",
    "A. English  \n",
    "B. Simplified Chinese  \n",
    "C. Traditional Chinese  \n",
    "D. Hindi  \n",
    "E. Spanish  \n",
    "F. Arabic  \n",
    "\n",
    "[[Block: Questions 1-10]]  \n",
    "MC1. Query: XYZ. Passage: XYZ.  \n",
    "[[Question:MC:SingleAnswer]]  \n",
    "[[Choices]]  \n",
    "A. Relevant  \n",
    "B. Not relevant  \n",
    "\n",
    "[[PageBreak]]  \n",
    "\n",
    "[[Block: Questions 11-20]]  \n",
    "MC11. Query: XYZ. Passage: XYZ.  \n",
    "[[Question:MC:SingleAnswer]]  \n",
    "[[Choices]]  \n",
    "A. Relevant  \n",
    "B. Not relevant  \n",
    "\n"
   ]
  },
  {
   "cell_type": "markdown",
   "metadata": {},
   "source": [
    "### Detailed Questions for Form\n",
    "\n",
    "We are collecting human annotations of query and passage pairs over different languages. We need your help in evaluating the relevance of each passage to its corresponding query. In this form, we will ask you to evaluate the relevance of 50 query-passage pairs in [LANGUAGE]. For each question, select either answer choice A or B."
   ]
  },
  {
   "cell_type": "code",
   "execution_count": null,
   "metadata": {},
   "outputs": [],
   "source": [
    "# import dataset\n",
    "from datasets import load_dataset\n",
    "\n",
    "ds_control = load_dataset(\n",
    "    \"borderlines/bordirlines\", \"control\", split=\"openai.en\", n_hits=10\n",
    ")"
   ]
  },
  {
   "cell_type": "code",
   "execution_count": null,
   "metadata": {},
   "outputs": [],
   "source": [
    "# get all engish query/doc pairs from dataset"
   ]
  },
  {
   "cell_type": "code",
   "execution_count": null,
   "metadata": {},
   "outputs": [],
   "source": [
    "# string manip to put it in the form question structure"
   ]
  },
  {
   "cell_type": "code",
   "execution_count": null,
   "metadata": {},
   "outputs": [],
   "source": [
    "# construct txt file form"
   ]
  },
  {
   "cell_type": "code",
   "execution_count": null,
   "metadata": {},
   "outputs": [],
   "source": [
    "# export txt file"
   ]
  }
 ],
 "metadata": {
  "language_info": {
   "name": "python"
  }
 },
 "nbformat": 4,
 "nbformat_minor": 2
}
